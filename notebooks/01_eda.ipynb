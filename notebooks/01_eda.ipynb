{
 "cells": [
  {
   "metadata": {},
   "cell_type": "markdown",
   "source": "STREAMING REC PROJECT",
   "id": "9cece03f2046f22f"
  },
  {
   "metadata": {
    "ExecuteTime": {
     "end_time": "2025-08-18T23:36:44.510279Z",
     "start_time": "2025-08-18T23:36:36.462157Z"
    }
   },
   "cell_type": "code",
   "source": [
    "#set Up / Imports\n",
    "!pip install pandas numpy matplotlib scikit-learn\n",
    "\n",
    "import pandas as pd\n",
    "import os\n",
    "import numpy as np\n",
    "import matplotlib.pyplot as plt\n",
    "from sklearn.metrics.pairwise import cosine_similarity\n",
    "import random\n",
    "from sklearn.model_selection import train_test_split\n",
    "from math import sqrt\n",
    "from sklearn.metrics import mean_squared_error\n",
    "\n",
    "os.chdir(r\"C:\\Users\\Emmet\\PycharmProjects\\streaming-recs-project\")\n",
    "\n"
   ],
   "id": "686ae6d42154721b",
   "outputs": [
    {
     "name": "stdout",
     "output_type": "stream",
     "text": [
      "Requirement already satisfied: pandas in c:\\users\\emmet\\pycharmprojects\\streaming-recs-project\\.venv\\lib\\site-packages (2.3.1)\n",
      "Requirement already satisfied: numpy in c:\\users\\emmet\\pycharmprojects\\streaming-recs-project\\.venv\\lib\\site-packages (2.3.2)\n",
      "Requirement already satisfied: matplotlib in c:\\users\\emmet\\pycharmprojects\\streaming-recs-project\\.venv\\lib\\site-packages (3.10.5)\n",
      "Requirement already satisfied: scikit-learn in c:\\users\\emmet\\pycharmprojects\\streaming-recs-project\\.venv\\lib\\site-packages (1.7.1)\n",
      "Requirement already satisfied: python-dateutil>=2.8.2 in c:\\users\\emmet\\pycharmprojects\\streaming-recs-project\\.venv\\lib\\site-packages (from pandas) (2.9.0.post0)\n",
      "Requirement already satisfied: pytz>=2020.1 in c:\\users\\emmet\\pycharmprojects\\streaming-recs-project\\.venv\\lib\\site-packages (from pandas) (2025.2)\n",
      "Requirement already satisfied: tzdata>=2022.7 in c:\\users\\emmet\\pycharmprojects\\streaming-recs-project\\.venv\\lib\\site-packages (from pandas) (2025.2)\n",
      "Requirement already satisfied: contourpy>=1.0.1 in c:\\users\\emmet\\pycharmprojects\\streaming-recs-project\\.venv\\lib\\site-packages (from matplotlib) (1.3.3)\n",
      "Requirement already satisfied: cycler>=0.10 in c:\\users\\emmet\\pycharmprojects\\streaming-recs-project\\.venv\\lib\\site-packages (from matplotlib) (0.12.1)\n",
      "Requirement already satisfied: fonttools>=4.22.0 in c:\\users\\emmet\\pycharmprojects\\streaming-recs-project\\.venv\\lib\\site-packages (from matplotlib) (4.59.0)\n",
      "Requirement already satisfied: kiwisolver>=1.3.1 in c:\\users\\emmet\\pycharmprojects\\streaming-recs-project\\.venv\\lib\\site-packages (from matplotlib) (1.4.9)\n",
      "Requirement already satisfied: packaging>=20.0 in c:\\users\\emmet\\pycharmprojects\\streaming-recs-project\\.venv\\lib\\site-packages (from matplotlib) (25.0)\n",
      "Requirement already satisfied: pillow>=8 in c:\\users\\emmet\\pycharmprojects\\streaming-recs-project\\.venv\\lib\\site-packages (from matplotlib) (11.3.0)\n",
      "Requirement already satisfied: pyparsing>=2.3.1 in c:\\users\\emmet\\pycharmprojects\\streaming-recs-project\\.venv\\lib\\site-packages (from matplotlib) (3.2.3)\n",
      "Requirement already satisfied: scipy>=1.8.0 in c:\\users\\emmet\\pycharmprojects\\streaming-recs-project\\.venv\\lib\\site-packages (from scikit-learn) (1.16.1)\n",
      "Requirement already satisfied: joblib>=1.2.0 in c:\\users\\emmet\\pycharmprojects\\streaming-recs-project\\.venv\\lib\\site-packages (from scikit-learn) (1.5.1)\n",
      "Requirement already satisfied: threadpoolctl>=3.1.0 in c:\\users\\emmet\\pycharmprojects\\streaming-recs-project\\.venv\\lib\\site-packages (from scikit-learn) (3.6.0)\n",
      "Requirement already satisfied: six>=1.5 in c:\\users\\emmet\\pycharmprojects\\streaming-recs-project\\.venv\\lib\\site-packages (from python-dateutil>=2.8.2->pandas) (1.17.0)\n"
     ]
    }
   ],
   "execution_count": 1
  },
  {
   "metadata": {
    "ExecuteTime": {
     "end_time": "2025-08-18T23:37:08.326461Z",
     "start_time": "2025-08-18T23:36:45.312093Z"
    }
   },
   "cell_type": "code",
   "source": [
    "#Data Loading and Sparsity Check\n",
    "\n",
    "#load ratings and movies. combine into df\n",
    "ratings = pd.read_csv('data/ml32/ratings.csv')\n",
    "movies = pd.read_csv('data/ml32/movies.csv')\n",
    "df = ratings.merge(movies, on='movieId', how='left')\n",
    "\n",
    "# sparsity (how much of the df is empty)\n",
    "n_users = df['userId'].nunique()\n",
    "n_items = df['movieId'].nunique()\n",
    "sparsity = 1 - (len(df)/ (n_users*n_items))\n"
   ],
   "id": "24c1d67686450bbd",
   "outputs": [],
   "execution_count": 2
  },
  {
   "metadata": {
    "ExecuteTime": {
     "end_time": "2025-08-18T23:37:18.871623Z",
     "start_time": "2025-08-18T23:37:08.351805Z"
    }
   },
   "cell_type": "code",
   "source": [
    "#Explore / Check Data\n",
    "# checks to see if data is present, and eyeball if ratings and distrobutions are making sense across the data.\n",
    "\n",
    "# Histogram of rating values\n",
    "plt.figure(figsize=(6,4))\n",
    "df['rating'].hist(bins=10, edgecolor='black')\n",
    "plt.title(\"Distribution of Ratings\")\n",
    "plt.xlabel(\"Rating\")\n",
    "plt.ylabel(\"Count\")\n",
    "plt.show()\n",
    "\n",
    "# Top 10 most-rated movies -- plot for visual\n",
    "top_movies = (\n",
    "    df.groupby('title')['rating']\n",
    "      .count()\n",
    "      .sort_values(ascending=False)\n",
    "      .head(10)\n",
    ")\n",
    "\n",
    "plt.figure(figsize=(8,5))\n",
    "top_movies.plot(kind='barh')\n",
    "plt.title(\"Top 10 Most-Rated Movies\")\n",
    "plt.xlabel(\"Number of Ratings\")\n",
    "plt.gca().invert_yaxis()  # so the top movie is at the top\n",
    "plt.show()\n",
    "\n",
    "\n",
    "# Ratings per user -- plot for visual\n",
    "ratings_per_user = df.groupby('userId')['rating'].count()\n",
    "fig, ax = plt.subplots(figsize=(7,4))\n",
    "ax.hist(ratings_per_user.clip(upper=ratings_per_user.quantile(0.98)),\n",
    "        bins=40, edgecolor='black')\n",
    "ax.set_yscale('log')\n",
    "ax.set_title(\"Ratings per User (y=log, clipped at P98)\")\n",
    "ax.set_xlabel(\"Number of Ratings\")\n",
    "ax.set_ylabel(\"Number of Users (log scale)\")\n",
    "plt.show()\n",
    "\n",
    "\n",
    "# Ratings per movie -- plot for visual\n",
    "ratings_per_movie = df.groupby('movieId')['rating'].count()\n",
    "cap_value = ratings_per_movie.quantile(0.98)\n",
    "plt.figure(figsize=(6,4))\n",
    "plt.hist(ratings_per_movie.clip(upper=cap_value),\n",
    "         bins=40, edgecolor='black')\n",
    "plt.yscale('log')  # log-based y-axis\n",
    "plt.title(\"Distribution of Ratings per Movie (log y, clipped at P98)\")\n",
    "plt.xlabel(\"Number of Ratings\")\n",
    "plt.ylabel(\"Number of Movies (log scale)\")\n",
    "plt.show()\n",
    "\n",
    "\n",
    "#summary Table\n",
    "print(f\"Number of users: {n_users}\")\n",
    "print(f\"Number of movies: {n_items}\")\n",
    "print(f\"Number of ratings: {len(df)}\")\n",
    "print(f\"Sparsity: {sparsity:.4f}\")"
   ],
   "id": "7656cd7fd4b22a40",
   "outputs": [
    {
     "data": {
      "text/plain": [
       "<Figure size 600x400 with 1 Axes>"
      ],
      "image/png": "[encoded data removed]"
     },
     "metadata": {},
     "output_type": "display_data"
    },
    {
     "data": {
      "text/plain": [
       "<Figure size 800x500 with 1 Axes>"
      ],
      "image/png": "[encoded data removed]"
     },
     "metadata": {},
     "output_type": "display_data"
    },
    {
     "data": {
      "text/plain": [
       "<Figure size 700x400 with 1 Axes>"
      ],
      "image/png": "[encoded data removed]"
     },
     "metadata": {},
     "output_type": "display_data"
    },
    {
     "data": {
      "text/plain": [
       "<Figure size 600x400 with 1 Axes>"
      ],
      "image/png": "[encoded data removed]"
     },
     "metadata": {},
     "output_type": "display_data"
    },
    {
     "name": "stdout",
     "output_type": "stream",
     "text": [
      "Number of users: 200948\n",
      "Number of movies: 84432\n",
      "Number of ratings: 32000204\n",
      "Sparsity: 0.9981\n"
     ]
    }
   ],
   "execution_count": 3
  },
  {
   "metadata": {
    "ExecuteTime": {
     "end_time": "2025-08-18T23:37:20.304203Z",
     "start_time": "2025-08-18T23:37:18.898304Z"
    }
   },
   "cell_type": "code",
   "source": [
    "#Most Watched recommender\n",
    "# shows top 10 most watched (IE most rated) movies.\n",
    "\n",
    "#count how many ratings each movie got and sort.\n",
    "movie_count = (df.groupby('movieId')['rating']\n",
    "               .count()\n",
    "               .sort_values(ascending=False)\n",
    "               )\n",
    "\n",
    "#join with the movies DataFrame to get titles\n",
    "movie_count = movie_count.reset_index(name='number of ratings') # resets to dataframe and renames values column\n",
    "popular = movie_count.merge(\n",
    "    movies[['movieId', 'title']], #adds titles back onto movieId counts\n",
    "    on='movieId',\n",
    "    how='left'\n",
    ")\n",
    "\n",
    "# Get the top 10 most-rated movies\n",
    "most_watched = popular.head(10)\n",
    "most_watched.index = range(1, len(most_watched) + 1) #reindexes from 1 for cleaner printing\n",
    "\n",
    "# show em!\n",
    "print(\"Top 10 Most Watched Movies:\")\n",
    "print(most_watched[['title', 'number of ratings']])\n",
    "\n"
   ],
   "id": "a08846af8274c92d",
   "outputs": [
    {
     "name": "stdout",
     "output_type": "stream",
     "text": [
      "Top 10 Most Watched Movies:\n",
      "                                                title  number of ratings\n",
      "1                    Shawshank Redemption, The (1994)             102929\n",
      "2                                 Forrest Gump (1994)             100296\n",
      "3                                 Pulp Fiction (1994)              98409\n",
      "4                                  Matrix, The (1999)              93808\n",
      "5                    Silence of the Lambs, The (1991)              90330\n",
      "6           Star Wars: Episode IV - A New Hope (1977)              85010\n",
      "7                                   Fight Club (1999)              77332\n",
      "8                                Jurassic Park (1993)              75233\n",
      "9                             Schindler's List (1993)              73849\n",
      "10  Lord of the Rings: The Fellowship of the Ring,...              73122\n"
     ]
    }
   ],
   "execution_count": 4
  },
  {
   "metadata": {
    "ExecuteTime": {
     "end_time": "2025-08-18T23:37:22.161196Z",
     "start_time": "2025-08-18T23:37:20.339735Z"
    }
   },
   "cell_type": "code",
   "source": [
    "#Average Rating Recommender\n",
    "\n",
    "\n",
    "#per movie mean rating and number of ratings\n",
    "movie_stats = df.groupby('movieId')['rating'].agg(['mean','count']).reset_index()\n",
    "movie_stats.columns = ['movieId','avg rating','number of ratings']\n",
    "\n",
    "#sets minimum number of ratings to be considered and ranks the average of the remaining\n",
    "min_rating = 2000\n",
    "filtered_movies = (movie_stats[movie_stats['number of ratings'] >= min_rating]\n",
    "    .sort_values(by='avg rating', ascending=False)\n",
    ")\n",
    "\n",
    "#adds back titles\n",
    "avg_rating_df = filtered_movies.merge(\n",
    "    movies[['movieId', 'title']],\n",
    "    on='movieId',\n",
    "    how='left'\n",
    ")\n",
    "\n",
    "#print results!\n",
    "top_rated = avg_rating_df.head(10)\n",
    "top_rated.index = range(1, len(top_rated) + 1)\n",
    "print(top_rated[['title', 'avg rating', 'number of ratings']])\n"
   ],
   "id": "f867e34057b448d7",
   "outputs": [
    {
     "name": "stdout",
     "output_type": "stream",
     "text": [
      "                                          title  avg rating  number of ratings\n",
      "1                           Planet Earth (2006)    4.444369               2948\n",
      "2                       Band of Brothers (2001)    4.426539               2811\n",
      "3              Shawshank Redemption, The (1994)    4.404614             102929\n",
      "4                         Godfather, The (1972)    4.317030              66440\n",
      "5                               Parasite (2019)    4.312254              11670\n",
      "6                           12 Angry Men (1957)    4.265311              21863\n",
      "7                    Usual Suspects, The (1995)    4.265070              67750\n",
      "8                Godfather: Part II, The (1974)    4.264468              43111\n",
      "9   Seven Samurai (Shichinin no samurai) (1954)    4.249622              16531\n",
      "10                              Whiplash (2013)    4.240097               3080\n"
     ]
    }
   ],
   "execution_count": 5
  },
  {
   "metadata": {
    "ExecuteTime": {
     "end_time": "2025-08-18T23:37:25.808737Z",
     "start_time": "2025-08-18T23:37:22.195790Z"
    }
   },
   "cell_type": "code",
   "source": [
    "#BUILD RECOMMENDER\n",
    "#will recommend a movie to a user based on other movies they've rated. Starting with users in the data already.\n",
    "#create user-item rating matrix\n",
    "#To make sure the df isn't too big we're filtering down to the 500 most active users and most popular movies.\n",
    "\n",
    "busy_users = df['userId'].value_counts().head(1000).index\n",
    "most_watched_movies = df['movieId'].value_counts().head(1000).index\n",
    "df_filtered = df[df['userId'].isin(busy_users) & df['movieId'].isin(most_watched_movies)]\n",
    "\n",
    "#create user / rating matrix. users as rows, movies as columns\n",
    "user_movie_matrix = df_filtered.pivot_table(\n",
    "    index='userId',\n",
    "    columns='movieId',\n",
    "    values = 'rating',\n",
    ")\n",
    "\n",
    "#print user_movie_matrix to make sure it makes sense.\n",
    "print(user_movie_matrix.shape) #number of users and movies\n",
    "print(user_movie_matrix.head(3)) # preview first 3 users\n",
    "\n",
    "\n"
   ],
   "id": "7233de29464d76c3",
   "outputs": [
    {
     "name": "stdout",
     "output_type": "stream",
     "text": [
      "(1000, 1000)\n",
      "movieId  1       2       3       5       6       7       10      11      \\\n",
      "userId                                                                    \n",
      "28          4.0     3.0     4.0     2.0     3.0     3.0     3.0     5.0   \n",
      "188         4.0     4.0     NaN     3.5     5.0     5.0     NaN     3.0   \n",
      "265         5.0     4.0     NaN     NaN     NaN     NaN     4.0     NaN   \n",
      "\n",
      "movieId  16      17      ...  168252  171763  174055  176371  177765  187593  \\\n",
      "userId                   ...                                                   \n",
      "28          3.0     4.0  ...     4.0     5.0     5.0     5.0     4.5     3.5   \n",
      "188         5.0     2.5  ...     NaN     NaN     NaN     NaN     NaN     NaN   \n",
      "265         4.0     NaN  ...     4.5     5.0     NaN     NaN     3.0     4.0   \n",
      "\n",
      "movieId  195159  202439  204698  207313  \n",
      "userId                                   \n",
      "28          5.0     5.0     NaN     4.5  \n",
      "188         NaN     NaN     NaN     NaN  \n",
      "265         4.0     5.0     2.0     4.5  \n",
      "\n",
      "[3 rows x 1000 columns]\n"
     ]
    }
   ],
   "execution_count": 6
  },
  {
   "metadata": {
    "ExecuteTime": {
     "end_time": "2025-08-18T23:37:25.913507Z",
     "start_time": "2025-08-18T23:37:25.851853Z"
    }
   },
   "cell_type": "code",
   "source": [
    "#compute user to user rating similarity\n",
    "\n",
    "#using cosine similarity to measure how similar two vectors are based on angle between them.\n",
    "#(dot product / product of their magnitude) ie and Inner Product space (Linear Algebra)\n",
    "#all users’ contributions are summed, then normalized, so every user’s rating pattern influences the similarity, 0s have no effect\n",
    "\n",
    "#fill the user/movie matrix with 0s for missing values\n",
    "filled_um_matrix = user_movie_matrix.fillna(0)\n",
    "\n",
    "#use cosine similarity function found\n",
    "#why transpose? sklearn.metrics.pairwise.cosine_similarity is between rows.\n",
    "movie_similarity = cosine_similarity(filled_um_matrix.T) #make movies as the rows - run similarity. returns array\n",
    "\n",
    "#create dataframe for looking up and labeling\n",
    "movie_similarity_df = pd.DataFrame(\n",
    "    movie_similarity,\n",
    "    index=filled_um_matrix.columns,   # confirm as movieIds\n",
    "    columns=filled_um_matrix.columns  # confirm as movieIds\n",
    ")\n",
    "\n",
    "#print to make sure things are going mostly right\n",
    "print(user_movie_matrix.shape) #number of users and movies\n",
    "print(movie_similarity_df.head(3))\n",
    "\n"
   ],
   "id": "a69523fa4e5e540b",
   "outputs": [
    {
     "name": "stdout",
     "output_type": "stream",
     "text": [
      "(1000, 1000)\n",
      "movieId    1         2         3         5         6         7         10      \\\n",
      "movieId                                                                         \n",
      "1        1.000000  0.842467  0.605342  0.603769  0.831402  0.592356  0.806595   \n",
      "2        0.842467  1.000000  0.568206  0.597316  0.724433  0.565365  0.760221   \n",
      "3        0.605342  0.568206  1.000000  0.626928  0.547720  0.532654  0.601089   \n",
      "\n",
      "movieId    11        16        17      ...    168252    171763    174055  \\\n",
      "movieId                                ...                                 \n",
      "1        0.688695  0.800666  0.643537  ...  0.679624  0.633739  0.634720   \n",
      "2        0.606423  0.692751  0.532427  ...  0.632415  0.590987  0.540222   \n",
      "3        0.584318  0.545070  0.470070  ...  0.373186  0.347259  0.352094   \n",
      "\n",
      "movieId    176371    177765    187593    195159    202439    204698    207313  \n",
      "movieId                                                                        \n",
      "1        0.655036  0.622675  0.617141  0.606232  0.597668  0.593591  0.620985  \n",
      "2        0.593264  0.586440  0.591217  0.554821  0.532717  0.548942  0.574733  \n",
      "3        0.328278  0.313009  0.354781  0.300726  0.270820  0.293137  0.316065  \n",
      "\n",
      "[3 rows x 1000 columns]\n"
     ]
    }
   ],
   "execution_count": 7
  },
  {
   "metadata": {
    "ExecuteTime": {
     "end_time": "2025-08-18T23:37:26.001208Z",
     "start_time": "2025-08-18T23:37:25.983137Z"
    }
   },
   "cell_type": "code",
   "source": [
    "#Similarity Checking Function (Optional to run/intialize)\n",
    "#You can skip this cell if you want. the function and variable don't get called anywhere.\n",
    "#this is mostly here to make sure the similarity dataframe is behaving as expected\n",
    "\n",
    "def get_similar_movies(movie_id, item_similarity_df, movies, top_n=10):\n",
    "    similar_scores = item_similarity_df[movie_id].drop(movie_id)\n",
    "    similar_ids = similar_scores.sort_values(ascending=False).head(top_n).index\n",
    "\n",
    "    return movies[movies['movieId'].isin(similar_ids)][['title']]\n",
    "\n",
    "movie_marker = movies.loc[movies['title'] == 'Toy Story (1995)', 'movieId'].values[0]\n",
    "print(get_similar_movies(movie_marker, movie_similarity_df, movies, top_n=5))"
   ],
   "id": "e3bace5bd2f462d7",
   "outputs": [
    {
     "name": "stdout",
     "output_type": "stream",
     "text": [
      "                                                  title\n",
      "257           Star Wars: Episode IV - A New Hope (1977)\n",
      "475                                Jurassic Park (1993)\n",
      "1168  Raiders of the Lost Ark (Indiana Jones and the...\n",
      "1237                          Back to the Future (1985)\n",
      "3021                                 Toy Story 2 (1999)\n"
     ]
    }
   ],
   "execution_count": 8
  },
  {
   "metadata": {
    "ExecuteTime": {
     "end_time": "2025-08-18T23:37:36.344219Z",
     "start_time": "2025-08-18T23:37:26.091842Z"
    }
   },
   "cell_type": "code",
   "source": [
    "#recommend movies to a random user in the dataframe\n",
    "\n",
    "def recommend_for_user(user_id, user_movie_matrix, movie_similarity_df, top_n=10):\n",
    "    #get ratings for the user entered\n",
    "    user_ratings = user_movie_matrix.loc[user_id].dropna()\n",
    "\n",
    "    # Make sure we're using movie titles, not IDs\n",
    "    if not set(user_ratings.index).issubset(movie_similarity_df.columns):\n",
    "        raise ValueError(\"Mismatch between user/movie matrix columns and similarity matrix.\")\n",
    "\n",
    "    #stores recommendation scores for movies the user hasn't seen yet\n",
    "    scores = {}\n",
    "\n",
    "    #looks at each movie the user rated\n",
    "    for movie, rating in user_ratings.items():\n",
    "        similar_movie = movie_similarity_df[movie].drop(movie)\n",
    "\n",
    "        #looks for movies with similar affiliation\n",
    "        for similar_movie, similarity in similar_movie.items():\n",
    "            #only consider if user hasnt seen movie\n",
    "            if pd.isna(user_movie_matrix.loc[user_id, similar_movie]):\n",
    "                #weights a score based on how similar the movie is * how highly that movie is rated.\n",
    "                #that is accumulated across multiple movies compared. A movie's recommendation score can thus get multiple relative bumps.\n",
    "                scores[similar_movie] = scores.get(similar_movie, 0) + similarity*rating\n",
    "\n",
    "    #sort the movies by the cumulative recommendation scores\n",
    "    ranked = sorted(scores.items(), key=lambda x: x[1], reverse=True)[:top_n]\n",
    "\n",
    "    #creates a list of titles (not just movieId).\n",
    "    ranked_with_titles = [(movies.loc[movies['movieId'] == mid, 'title'].values[0], score) for mid, score in ranked]\n",
    "\n",
    "    return ranked_with_titles\n",
    "\n",
    "\n",
    "\n",
    "#example use:\n",
    "\n",
    "user_id = random.choice(user_movie_matrix.index.tolist()) # pick a user from your filtered dataset\n",
    "recommendations = recommend_for_user(user_id, user_movie_matrix, movie_similarity_df, top_n=5)\n",
    "\n",
    "print(f\"Top recommendations for user {user_id}:\")\n",
    "for title, score in recommendations:\n",
    "    print(f\"{title} (score: {score:.3f})\")\n",
    "\n"
   ],
   "id": "e1994b1f9eff4443",
   "outputs": [
    {
     "name": "stdout",
     "output_type": "stream",
     "text": [
      "Top recommendations for user 51289:\n",
      "High Fidelity (2000) (score: 1953.214)\n",
      "Raising Arizona (1987) (score: 1904.904)\n",
      "Dark City (1998) (score: 1886.558)\n",
      "Matrix Revolutions, The (2003) (score: 1885.162)\n",
      "Chasing Amy (1997) (score: 1844.745)\n"
     ]
    }
   ],
   "execution_count": 9
  },
  {
   "metadata": {},
   "cell_type": "code",
   "source": [
    "# double checking data one more time!\n",
    "# it would probably be good to try to validate the work again quick before moving on.\n",
    "\n",
    "def check_shapes_and_sparsity(ratings_df, user_movie_matrix):\n",
    "\n",
    "    # check and return shapes and sparcity checks\n",
    "    sparsity = 1 - (user_movie_matrix.notna().sum().sum() / user_movie_matrix.size)\n",
    "    print(f\"Ratings dataframe shape: {ratings_df.shape}\")\n",
    "    print(f\"User–Movie matrix shape: {user_movie_matrix.shape}\")\n",
    "    print(f\"Sparsity (empty cells %): {sparsity:.2%}\")\n",
    "    return {\"sparsity\": sparsity, \"users\": user_movie_matrix.shape[0], \"movies\": user_movie_matrix.shape[1]}\n",
    "\n",
    "def check_popular_movies(ratings_df, movies, n=10):\n",
    "\n",
    "    # return top rated movies and their counts\n",
    "    popular = (ratings_df.groupby('movieId')['rating']\n",
    "                 .count()\n",
    "                 .sort_values(ascending=False)\n",
    "                 .head(n)\n",
    "                 .rename('num_ratings')\n",
    "                 .reset_index()\n",
    "                 .merge(movies[['movieId','title']], on='movieId', how='left'))\n",
    "    print(f\"Top {n} most rated movies:\")\n",
    "    return popular[['title','num_ratings']]\n",
    "\n",
    "\n",
    "def check_movie_neighbors(title, movies, user_movie_matrix, top_n=10):\n",
    "    # top n most similar movies to a given title using cosine similarity.\n",
    "\n",
    "    # build similarity matrix (fill NaN with 0 just for similarity math)\n",
    "    item_sims = cosine_similarity(user_movie_matrix.fillna(0).T)\n",
    "    item_similarity_df = pd.DataFrame(\n",
    "        item_sims,\n",
    "        index=user_movie_matrix.columns,\n",
    "        columns=user_movie_matrix.columns\n",
    "    )\n",
    "\n",
    "    # look up movieId\n",
    "    ids = movies.loc[movies['title'] == title, 'movieId']\n",
    "    if ids.empty:\n",
    "        raise ValueError(f\"Movie title '{title}' not found.\")\n",
    "    movie_id = ids.iloc[0]\n",
    "\n",
    "    # find neighbors\n",
    "    neighbors = (item_similarity_df[movie_id]\n",
    "                   .drop(movie_id)\n",
    "                   .sort_values(ascending=False)\n",
    "                   .head(top_n)\n",
    "                   .rename('similarity')\n",
    "                   .reset_index()\n",
    "                   .merge(movies[['movieId','title']], on='movieId', how='left'))\n",
    "    print(f\"Top {top_n} neighbors for: {title}\")\n",
    "    return neighbors[['title','similarity']]\n",
    "\n",
    "\n",
    "check_shapes_and_sparsity(movie_similarity_df, user_movie_matrix)\n",
    "check_popular_movies(movie_similarity_df, movies)\n"
   ],
   "id": "9fb89442789402e",
   "outputs": [],
   "execution_count": null
  },
  {
   "metadata": {
    "ExecuteTime": {
     "end_time": "2025-08-18T23:42:52.974475Z",
     "start_time": "2025-08-18T23:40:38.914148Z"
    }
   },
   "cell_type": "code",
   "source": [
    "#Build interactive recommender\n",
    "#this is the big thing here - lets take the similarity dataframe I've been working with an give myself (or another user) recommendations.\n",
    "\n",
    "\n",
    "\n",
    "popularity = df['movieId'].value_counts()\n",
    "\n",
    "def pick_next_movie(user_ratings, movies, item_similarity_df, popularity, min_ratings=300):\n",
    "    #picks movies to ask about based on previous user ratings.\n",
    "    # Heuristic - chooses a movie most similar to the highest rated movie so far.\n",
    "    # Asks about random movie every few steps\n",
    "    # skips multiple installments of same franchise\n",
    "\n",
    "    if not user_ratings:\n",
    "    #start with popular movie\n",
    "        popular_choice = popularity[popularity>min_ratings].index\n",
    "        start_movie = random.choice(popular_choice)\n",
    "        return movies.loc[movies['movieId'] == start_movie].iloc[0]\n",
    "\n",
    "    #find users current favorite\n",
    "    fav_movie = max(user_ratings, key=user_ratings.get)\n",
    "\n",
    "    # If the favorite movie isn't in the similarity matrix, fall back to popular\n",
    "    if fav_movie not in item_similarity_df.columns:\n",
    "        popular_choice = popularity[popularity > min_ratings].index\n",
    "        start_movie = random.choice(popular_choice)\n",
    "        return movies.loc[movies['movieId'] == start_movie].iloc[0]\n",
    "\n",
    "    # every 3rd pick try a random movie\n",
    "    if len(user_ratings) % 3 == 0:\n",
    "        popular_choice = popularity[popularity > min_ratings].sample(1).index[0]\n",
    "        return movies.loc[movies['movieId'] == popular_choice].iloc[0]\n",
    "\n",
    "    #find a similar unseen movie\n",
    "    sims = item_similarity_df[fav_movie].drop(fav_movie).sort_values(ascending=False)\n",
    "    for candidate in sims.index:\n",
    "        if candidate not in user_ratings and popularity.get(candidate, 0) > min_ratings:\n",
    "            return movies.loc[movies['movieId'] == candidate].iloc[0]\n",
    "\n",
    "\n",
    "def too_similar(title, asked_titles):\n",
    "    for t in asked_titles:\n",
    "        if title.split()[0] in t or t.split()[0] in title:\n",
    "            return True\n",
    "    return False\n",
    "\n",
    "\n",
    "def interactive_recommender(movies, item_similarity_df, top_n=5):\n",
    "    #asks user to rate 10 random movies, then recommends movies based on ratings.\n",
    "\n",
    "    print(\"Please rate these movies from 1-5, or 0 if you haven't seen it.\\n\")\n",
    "\n",
    "    # get 10 ratings of films the user has seen. Don't stop until 10 films are rated.\n",
    "    user_ratings = {}\n",
    "    asked_movies = set() #movieId\n",
    "    asked_titles = set() #str title\n",
    "    rated = 0 #number of films seen\n",
    "\n",
    "    while rated < 10:\n",
    "        movie = pick_next_movie(user_ratings, movies, item_similarity_df, popularity)\n",
    "        if movie['movieId'] in asked_movies:\n",
    "            continue\n",
    "        if too_similar(movie['title'], asked_titles):\n",
    "            continue\n",
    "        asked_movies.add(movie['movieId'])\n",
    "        asked_titles.add(movie['title'])\n",
    "\n",
    "        while True:\n",
    "            try:\n",
    "                rating = float(input(f\"Rate this movie 1-5 (or 0 if you havent seen it): {movie['title']}: \"))\n",
    "                if 0 <= rating <= 5:\n",
    "                    break\n",
    "                else:\n",
    "                    print(\"Please enter a rating from 0 and 5\")\n",
    "            except ValueError:\n",
    "                print(\"invalid input - enter a number between 0 and 5\")\n",
    "        if rating > 0:\n",
    "            user_ratings[movie['movieId']] = rating\n",
    "            rated += 1\n",
    "\n",
    "    # score other movies based on similarity\n",
    "    scores = {}\n",
    "\n",
    "\n",
    "    for movie_id, rating in user_ratings.items():\n",
    "        if movie_id not in item_similarity_df.columns:\n",
    "            continue\n",
    "        similar_movies = item_similarity_df[movie_id].drop(movie_id)\n",
    "        for sim_movie, similarity in similar_movies.items():\n",
    "            if sim_movie not in user_ratings:\n",
    "                scores[sim_movie] = scores.get(sim_movie, 0) + (similarity * rating) / np.log1p(popularity[sim_movie])\n",
    "\n",
    "    # rank top recommendations\n",
    "    ranked = sorted(scores.items(), key=lambda x: x[1], reverse=True)[:top_n]\n",
    "\n",
    "    print(f\"Top recommendations for you:\")\n",
    "    for i, (mid, score) in enumerate(ranked, 1):\n",
    "        title = movies.loc[movies['movieId'] == mid, 'title'].values[0]\n",
    "        print(f\"{i}. {title} (score: {score:.3f})\")\n",
    "\n",
    "\n",
    "interactive_recommender(movies, movie_similarity_df, top_n=5)"
   ],
   "id": "86a70b6a6d767982",
   "outputs": [
    {
     "name": "stdout",
     "output_type": "stream",
     "text": [
      "Please rate these movies from 1-5, or 0 if you haven't seen it.\n",
      "\n",
      "Top recommendations for you:\n",
      "1. Thor: The Dark World (2013) (score: 2.860)\n",
      "2. Captain America: The Winter Soldier (2014) (score: 2.794)\n",
      "3. X-Men: Days of Future Past (2014) (score: 2.784)\n",
      "4. Iron Man 3 (2013) (score: 2.775)\n",
      "5. Captain America: The First Avenger (2011) (score: 2.775)\n"
     ]
    }
   ],
   "execution_count": 13
  }
 ],
 "metadata": {
  "kernelspec": {
   "display_name": "Python 3",
   "language": "python",
   "name": "python3"
  },
  "language_info": {
   "codemirror_mode": {
    "name": "ipython",
    "version": 2
   },
   "file_extension": ".py",
   "mimetype": "text/x-python",
   "name": "python",
   "nbconvert_exporter": "python",
   "pygments_lexer": "ipython2",
   "version": "2.7.6"
  }
 },
 "nbformat": 4,
 "nbformat_minor": 5
}
